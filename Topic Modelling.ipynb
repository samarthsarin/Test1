{
 "cells": [
  {
   "cell_type": "code",
   "execution_count": 1,
   "metadata": {},
   "outputs": [
    {
     "name": "stderr",
     "output_type": "stream",
     "text": [
      "C:\\Users\\samarth152721\\AppData\\Local\\Continuum\\anaconda3\\lib\\site-packages\\tqdm\\std.py:648: FutureWarning: The Panel class is removed from pandas. Accessing it from the top-level namespace will also be removed in the next version\n",
      "  from pandas import Panel\n"
     ]
    }
   ],
   "source": [
    "import pandas as pd\n",
    "import re\n",
    "import gensim\n",
    "import nltk\n",
    "from nltk.corpus import stopwords\n",
    "from nltk.stem import WordNetLemmatizer\n",
    "from string import punctuation\n",
    "from gensim.corpora import Dictionary\n",
    "from nltk.tokenize import word_tokenize\n",
    "from gensim.models.ldamodel import LdaModel,CoherenceModel\n",
    "import pyLDAvis\n",
    "import pyLDAvis.gensim\n",
    "import matplotlib.pyplot as plt\n",
    "from tqdm import tqdm\n",
    "tqdm.pandas()\n",
    "import warnings\n",
    "warnings.filterwarnings('ignore')\n",
    "%matplotlib inline"
   ]
  },
  {
   "cell_type": "code",
   "execution_count": 2,
   "metadata": {},
   "outputs": [
    {
     "data": {
      "text/html": [
       "<div>\n",
       "<style scoped>\n",
       "    .dataframe tbody tr th:only-of-type {\n",
       "        vertical-align: middle;\n",
       "    }\n",
       "\n",
       "    .dataframe tbody tr th {\n",
       "        vertical-align: top;\n",
       "    }\n",
       "\n",
       "    .dataframe thead th {\n",
       "        text-align: right;\n",
       "    }\n",
       "</style>\n",
       "<table border=\"1\" class=\"dataframe\">\n",
       "  <thead>\n",
       "    <tr style=\"text-align: right;\">\n",
       "      <th></th>\n",
       "      <th>Product</th>\n",
       "      <th>Consumer complaint narrative</th>\n",
       "    </tr>\n",
       "  </thead>\n",
       "  <tbody>\n",
       "    <tr>\n",
       "      <td>0</td>\n",
       "      <td>Debt collection</td>\n",
       "      <td>transworld systems inc. \\nis trying to collect...</td>\n",
       "    </tr>\n",
       "    <tr>\n",
       "      <td>1</td>\n",
       "      <td>Credit reporting, credit repair services, or o...</td>\n",
       "      <td>I would like to request the suppression of the...</td>\n",
       "    </tr>\n",
       "    <tr>\n",
       "      <td>2</td>\n",
       "      <td>Debt collection</td>\n",
       "      <td>Over the past 2 weeks, I have been receiving e...</td>\n",
       "    </tr>\n",
       "    <tr>\n",
       "      <td>3</td>\n",
       "      <td>Credit reporting, credit repair services, or o...</td>\n",
       "      <td>someone used my personal information to get me...</td>\n",
       "    </tr>\n",
       "    <tr>\n",
       "      <td>4</td>\n",
       "      <td>Money transfer, virtual currency, or money ser...</td>\n",
       "      <td>I was sold access to an event digitally, of wh...</td>\n",
       "    </tr>\n",
       "  </tbody>\n",
       "</table>\n",
       "</div>"
      ],
      "text/plain": [
       "                                             Product  \\\n",
       "0                                    Debt collection   \n",
       "1  Credit reporting, credit repair services, or o...   \n",
       "2                                    Debt collection   \n",
       "3  Credit reporting, credit repair services, or o...   \n",
       "4  Money transfer, virtual currency, or money ser...   \n",
       "\n",
       "                        Consumer complaint narrative  \n",
       "0  transworld systems inc. \\nis trying to collect...  \n",
       "1  I would like to request the suppression of the...  \n",
       "2  Over the past 2 weeks, I have been receiving e...  \n",
       "3  someone used my personal information to get me...  \n",
       "4  I was sold access to an event digitally, of wh...  "
      ]
     },
     "execution_count": 2,
     "metadata": {},
     "output_type": "execute_result"
    }
   ],
   "source": [
    "df2 = pd.read_csv('C:/Users/samarth152721/Downloads/complaints.csv')\n",
    "df = df2[['Product','Consumer complaint narrative']]\n",
    "df.dropna(inplace = True)\n",
    "df.reset_index(drop = True,inplace = True)\n",
    "df.head()"
   ]
  },
  {
   "cell_type": "code",
   "execution_count": 3,
   "metadata": {},
   "outputs": [],
   "source": [
    "def renaming(text):\n",
    "    if text =='Prepaid card':\n",
    "        return 'Credit card or prepaid card'\n",
    "    elif text == 'Payday loan':\n",
    "        return 'Loans'\n",
    "    elif text == 'Credit reporting':\n",
    "        return 'Credit reporting, credit repair services, or other personal consumer reports'\n",
    "    elif text == 'Money transfers':\n",
    "        return 'Money transfer, virtual currency, or money service'\n",
    "    elif text == 'Credit card':\n",
    "        return 'Credit card or prepaid card'\n",
    "    elif text == 'Consumer Loan':\n",
    "        return 'Loans'\n",
    "    elif text == 'Vehicle loan or lease':\n",
    "        return 'Loans'\n",
    "    elif text == 'Payday loan, title loan, or personal loan':\n",
    "        return 'Loans'\n",
    "    elif text == 'Student loan':\n",
    "        return 'Loans'\n",
    "    elif text == 'Virtual currency':\n",
    "        return 'Money transfer, virtual currency, or money service'\n",
    "    else:\n",
    "        return text"
   ]
  },
  {
   "cell_type": "code",
   "execution_count": 4,
   "metadata": {},
   "outputs": [
    {
     "name": "stderr",
     "output_type": "stream",
     "text": [
      "100%|██████████████████████████████████████████████████████████████████████| 496719/496719 [00:00<00:00, 906218.72it/s]\n"
     ]
    }
   ],
   "source": [
    "df['Product'] = df['Product'].progress_apply(renaming)"
   ]
  },
  {
   "cell_type": "code",
   "execution_count": 5,
   "metadata": {},
   "outputs": [
    {
     "data": {
      "text/plain": [
       "Credit reporting, credit repair services, or other personal consumer reports    178886\n",
       "Debt collection                                                                 107741\n",
       "Mortgage                                                                         61901\n",
       "Credit card or prepaid card                                                      52931\n",
       "Loans                                                                            51189\n",
       "Checking or savings account                                                      19418\n",
       "Bank account or service                                                          14885\n",
       "Money transfer, virtual currency, or money service                                9476\n",
       "Other financial service                                                            292\n",
       "Name: Product, dtype: int64"
      ]
     },
     "execution_count": 5,
     "metadata": {},
     "output_type": "execute_result"
    }
   ],
   "source": [
    "df['Product'].value_counts()"
   ]
  },
  {
   "cell_type": "code",
   "execution_count": 6,
   "metadata": {},
   "outputs": [],
   "source": [
    "df2 = df[df['Product']=='Bank account or service']"
   ]
  },
  {
   "cell_type": "code",
   "execution_count": 7,
   "metadata": {},
   "outputs": [
    {
     "data": {
      "text/html": [
       "<div>\n",
       "<style scoped>\n",
       "    .dataframe tbody tr th:only-of-type {\n",
       "        vertical-align: middle;\n",
       "    }\n",
       "\n",
       "    .dataframe tbody tr th {\n",
       "        vertical-align: top;\n",
       "    }\n",
       "\n",
       "    .dataframe thead th {\n",
       "        text-align: right;\n",
       "    }\n",
       "</style>\n",
       "<table border=\"1\" class=\"dataframe\">\n",
       "  <thead>\n",
       "    <tr style=\"text-align: right;\">\n",
       "      <th></th>\n",
       "      <th>Product</th>\n",
       "      <th>Consumer complaint narrative</th>\n",
       "    </tr>\n",
       "  </thead>\n",
       "  <tbody>\n",
       "    <tr>\n",
       "      <td>18610</td>\n",
       "      <td>Bank account or service</td>\n",
       "      <td>I applied for Bank of the west checking accoun...</td>\n",
       "    </tr>\n",
       "    <tr>\n",
       "      <td>22439</td>\n",
       "      <td>Bank account or service</td>\n",
       "      <td>Near the end of XXXX 2016 I opened a Citigold ...</td>\n",
       "    </tr>\n",
       "    <tr>\n",
       "      <td>22763</td>\n",
       "      <td>Bank account or service</td>\n",
       "      <td>I own a XXXX wanted to transfer money from XXX...</td>\n",
       "    </tr>\n",
       "    <tr>\n",
       "      <td>23685</td>\n",
       "      <td>Bank account or service</td>\n",
       "      <td>My bank account was tied to my XXXX. My XXXX w...</td>\n",
       "    </tr>\n",
       "    <tr>\n",
       "      <td>24057</td>\n",
       "      <td>Bank account or service</td>\n",
       "      <td>Dear Scottrade, As mentioned in my separate le...</td>\n",
       "    </tr>\n",
       "  </tbody>\n",
       "</table>\n",
       "</div>"
      ],
      "text/plain": [
       "                       Product  \\\n",
       "18610  Bank account or service   \n",
       "22439  Bank account or service   \n",
       "22763  Bank account or service   \n",
       "23685  Bank account or service   \n",
       "24057  Bank account or service   \n",
       "\n",
       "                            Consumer complaint narrative  \n",
       "18610  I applied for Bank of the west checking accoun...  \n",
       "22439  Near the end of XXXX 2016 I opened a Citigold ...  \n",
       "22763  I own a XXXX wanted to transfer money from XXX...  \n",
       "23685  My bank account was tied to my XXXX. My XXXX w...  \n",
       "24057  Dear Scottrade, As mentioned in my separate le...  "
      ]
     },
     "execution_count": 7,
     "metadata": {},
     "output_type": "execute_result"
    }
   ],
   "source": [
    "df2.head()"
   ]
  },
  {
   "cell_type": "code",
   "execution_count": 8,
   "metadata": {},
   "outputs": [],
   "source": [
    "stop_words = list(set(stopwords.words('english')))+list(punctuation)\n",
    "lem = WordNetLemmatizer()"
   ]
  },
  {
   "cell_type": "code",
   "execution_count": 9,
   "metadata": {},
   "outputs": [],
   "source": [
    "def cleaning(text):\n",
    "    text = re.sub('XXXX',' UNKNOWN ',text)\n",
    "    text = re.sub('XX/XX/','',text)\n",
    "    text = re.sub('UNKNOWN   UNKNOWN','UNKNOWN',text)\n",
    "    text = re.sub('UNKNOWN','',text)\n",
    "    text = re.sub('\\n',' ',text)\n",
    "    text = re.sub('  ',' ',text)\n",
    "    text = text.lower()\n",
    "    words = word_tokenize(text)\n",
    "    words = [w for w in words if w not in stop_words]\n",
    "    words = [w for w in words if len(w)>2]\n",
    "    words = [lem.lemmatize(w) for w in words]\n",
    "    return words"
   ]
  },
  {
   "cell_type": "code",
   "execution_count": 10,
   "metadata": {},
   "outputs": [
    {
     "name": "stderr",
     "output_type": "stream",
     "text": [
      "100%|███████████████████████████████████████████████████████████████████████████| 14885/14885 [00:39<00:00, 373.19it/s]\n"
     ]
    }
   ],
   "source": [
    "df2['clean_text'] = df2['Consumer complaint narrative'].progress_apply(cleaning)"
   ]
  },
  {
   "cell_type": "code",
   "execution_count": 11,
   "metadata": {},
   "outputs": [],
   "source": [
    "clean_doc = list(df2['clean_text'].values)"
   ]
  },
  {
   "cell_type": "code",
   "execution_count": 12,
   "metadata": {},
   "outputs": [],
   "source": [
    "dictionary = Dictionary(clean_doc)"
   ]
  },
  {
   "cell_type": "code",
   "execution_count": 13,
   "metadata": {},
   "outputs": [],
   "source": [
    "corpus = [dictionary.doc2bow(doc) for doc in clean_doc]"
   ]
  },
  {
   "cell_type": "code",
   "execution_count": null,
   "metadata": {},
   "outputs": [],
   "source": [
    "%%time\n",
    "ldamodel = LdaModel(corpus=corpus,id2word=dictionary,num_topics=5,random_state=42,update_every=1,passes=50, chunksize=100)"
   ]
  },
  {
   "cell_type": "code",
   "execution_count": null,
   "metadata": {},
   "outputs": [],
   "source": [
    "print(ldamodel.print_topics())"
   ]
  },
  {
   "cell_type": "code",
   "execution_count": null,
   "metadata": {},
   "outputs": [],
   "source": [
    "df2.head(10)"
   ]
  },
  {
   "cell_type": "code",
   "execution_count": null,
   "metadata": {},
   "outputs": [],
   "source": []
  }
 ],
 "metadata": {
  "kernelspec": {
   "display_name": "Python 3",
   "language": "python",
   "name": "python3"
  },
  "language_info": {
   "codemirror_mode": {
    "name": "ipython",
    "version": 3
   },
   "file_extension": ".py",
   "mimetype": "text/x-python",
   "name": "python",
   "nbconvert_exporter": "python",
   "pygments_lexer": "ipython3",
   "version": "3.7.4"
  }
 },
 "nbformat": 4,
 "nbformat_minor": 2
}
