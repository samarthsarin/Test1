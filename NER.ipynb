{
 "cells": [
  {
   "cell_type": "code",
   "execution_count": 7,
   "metadata": {},
   "outputs": [],
   "source": [
    "import re\n",
    "from IPython.display import Markdown, display"
   ]
  },
  {
   "cell_type": "code",
   "execution_count": 11,
   "metadata": {},
   "outputs": [],
   "source": [
    "with open('C:/Users/samarth152721/Desktop/negative-words.txt') as f:\n",
    "    words = f.readlines()    \n",
    "clean_words = [word[:-1] for word in words]"
   ]
  },
  {
   "cell_type": "code",
   "execution_count": 8,
   "metadata": {},
   "outputs": [
    {
     "name": "stdout",
     "output_type": "stream",
     "text": [
      "<class 'str'>\n"
     ]
    }
   ],
   "source": [
    "text = 'while checking my credit report i noticed {$21.00} three collections by a company called ars that i was unfamiliar with. i disputed these collections with xxxx, and xxxx and they both replied that they contacted the creditor and the creditor verified the debt so i asked for proof which both bureaus replied that they are not required to prove anything. i then mailed a certified letter to ars requesting proof of the debts n the form of an original aggrement, or a proof of a right to the debt, or even so much as the process as to how the bill was calculated, to which i was simply replied a letter for each collection claim that listed my name an account number and an amount with no other information to verify the debts after i sent a clear notice to provide me evidence. afterwards i recontacted both xxxx, and xxxx, to redispute on the premise that it is not my debt if evidence can not be drawn up, i feel as if i am being personally victimized by ars on my credit report for debts that are not owed to them or any party for that matter, and i feel discouraged that the credit bureaus who control many aspects of my personal finances are so negligent about my information.'\n",
    "a = str.maketrans('{',' ')\n",
    "a = str.maketrans('}',' ')\n",
    "text.translate(a)\n",
    "print(type(text))"
   ]
  },
  {
   "cell_type": "code",
   "execution_count": 22,
   "metadata": {},
   "outputs": [],
   "source": [
    "def color(keywords,sentence):\n",
    "    f = '<span style=\"background-color: #99BE1C\">{0}</span>'\n",
    "    \n",
    "    formattedText = ''\n",
    "    words = keywords\n",
    "    \n",
    "    for i in words:\n",
    "        try:\n",
    "            k = re.search(i,sentence)\n",
    "            my_sentence = sentence[k.span()[0]:k.span()[1]]\n",
    "    \n",
    "            sentence = sentence.replace(my_sentence,f.format(my_sentence))\n",
    "            \n",
    "        except:\n",
    "            pass\n",
    "    return sentence"
   ]
  },
  {
   "cell_type": "code",
   "execution_count": 23,
   "metadata": {},
   "outputs": [
    {
     "data": {
      "text/markdown": [
       "while checking my credit report i noticed {$<span style=\"background-color: #99BE1C\">21.00</span>} three collections by a company called ars that i was unfamiliar with. i disputed these collections with xxxx, and xxxx and they both replied that they contacted the creditor and the creditor verified the <span style=\"background-color: #99BE1C\">debt</span> so i asked for proof which both bureaus replied that they are not required to prove anything. i then mailed a certified letter to ars requesting proof of the <span style=\"background-color: #99BE1C\"><span style=\"background-color: #99BE1C\">debt</span>s</span> n the form of an original aggrement, or a proof of a right to the <span style=\"background-color: #99BE1C\">debt</span>, or even so much as the process as to how the bill was calculated, to which i was simply replied a letter for each collection claim that listed my name an account number and an amount with no other information to verify the <span style=\"background-color: #99BE1C\"><span style=\"background-color: #99BE1C\">debt</span>s</span> after i sent a clear notice to provide me evidence. afterwards i recontacted both xxxx, and xxxx, to redispute on the premise that it is not my <span style=\"background-color: #99BE1C\">debt</span> if evidence can not be drawn up, i feel as if i am being personally victimized by ars on my credit report for <span style=\"background-color: #99BE1C\"><span style=\"background-color: #99BE1C\">debt</span>s</span> that are not owed to them or any party for that matter, and i feel discouraged that the credit bureaus who control many aspects of my personal finances are so negligent about my information."
      ],
      "text/plain": [
       "<IPython.core.display.Markdown object>"
      ]
     },
     "metadata": {},
     "output_type": "display_data"
    }
   ],
   "source": [
    "found = re.findall('[\\d]+.?\\d*',text)\n",
    "display(Markdown(color(['debts','debt']+found,text)))"
   ]
  },
  {
   "cell_type": "code",
   "execution_count": null,
   "metadata": {},
   "outputs": [],
   "source": []
  }
 ],
 "metadata": {
  "kernelspec": {
   "display_name": "Python 3",
   "language": "python",
   "name": "python3"
  },
  "language_info": {
   "codemirror_mode": {
    "name": "ipython",
    "version": 3
   },
   "file_extension": ".py",
   "mimetype": "text/x-python",
   "name": "python",
   "nbconvert_exporter": "python",
   "pygments_lexer": "ipython3",
   "version": "3.7.4"
  }
 },
 "nbformat": 4,
 "nbformat_minor": 2
}
